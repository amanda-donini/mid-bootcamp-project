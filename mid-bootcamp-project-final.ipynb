{
 "cells": [
  {
   "cell_type": "code",
   "execution_count": 29,
   "metadata": {},
   "outputs": [],
   "source": [
    "import pandas as pd\n",
    "import scipy.stats as st\n",
    "from scipy.stats import ttest_ind\n",
    "from scipy.stats import chi2_contingency\n",
    "import numpy as np"
   ]
  },
  {
   "cell_type": "code",
   "execution_count": 30,
   "metadata": {},
   "outputs": [],
   "source": [
    "all_products = pd.read_csv('all products - Sheet1.csv')"
   ]
  },
  {
   "cell_type": "code",
   "execution_count": 31,
   "metadata": {},
   "outputs": [],
   "source": [
    "column_mapping = {col: col.replace(' ', '') for col in all_products.columns}\n",
    "\n",
    "all_products = all_products.rename(columns=column_mapping)"
   ]
  },
  {
   "cell_type": "markdown",
   "metadata": {},
   "source": [
    "**Null hypothesis ($H_0$):** positive taste comments ratings = negative taste comments rating \n",
    "\n",
    "**Alternative hypothesis ($H_1$):** positive taste comments ratings != negative taste comments rating "
   ]
  },
  {
   "cell_type": "code",
   "execution_count": 32,
   "metadata": {},
   "outputs": [],
   "source": [
    "good_taste = all_products[all_products['taste'] == 'good']\n",
    "bad_taste = all_products[all_products['taste'] == 'bad']"
   ]
  },
  {
   "cell_type": "code",
   "execution_count": 33,
   "metadata": {},
   "outputs": [
    {
     "data": {
      "text/plain": [
       "TtestResult(statistic=6.215097394604501, pvalue=1.2862619642825903e-08, df=97.0)"
      ]
     },
     "execution_count": 33,
     "metadata": {},
     "output_type": "execute_result"
    }
   ],
   "source": [
    "st.ttest_ind(good_taste['rating'], bad_taste['rating'])\n",
    "\n",
    "#p-value is lower than 0.05, so we can say there is significant difference between the ratings on comments about good taste and comments about bad taste\n"
   ]
  },
  {
   "cell_type": "markdown",
   "metadata": {},
   "source": [
    "**Null hypothesis ($H_0$):** positive texture comments ratings = negative texture comments rating \n",
    "\n",
    "**Alternative hypothesis ($H_2$):** positive texture comments ratings != negative texture comments rating "
   ]
  },
  {
   "cell_type": "code",
   "execution_count": 34,
   "metadata": {},
   "outputs": [],
   "source": [
    "good_texture = all_products[all_products['texture'] == 'good']\n",
    "bad_texture = all_products[all_products['texture'] == 'bad']"
   ]
  },
  {
   "cell_type": "code",
   "execution_count": 35,
   "metadata": {},
   "outputs": [
    {
     "data": {
      "text/plain": [
       "TtestResult(statistic=4.585006939206189, pvalue=1.779967292941973e-05, df=75.0)"
      ]
     },
     "execution_count": 35,
     "metadata": {},
     "output_type": "execute_result"
    }
   ],
   "source": [
    "st.ttest_ind(good_texture['rating'], bad_texture['rating'])\n",
    "#p-value is lower than 0.05, so we can say there is significan difference between the ratings on comments about good texture and comments about bad texture"
   ]
  },
  {
   "cell_type": "markdown",
   "metadata": {},
   "source": [
    "**Null hypothesis ($H_0$):** ratings of comments discussing similarity with the original product = ratings of comments that don't discuss the similarity with the original product\n",
    "\n",
    "**Alternative hypothesis ($H_3$):** ratings of comments discussing similarity with the original product != ratings of comments that don't discuss the similarity with the original product"
   ]
  },
  {
   "cell_type": "code",
   "execution_count": 42,
   "metadata": {},
   "outputs": [],
   "source": [
    "similarity_comments = all_products[all_products['similarity_with_original_meat_product'].notna()]\n",
    "no_similarity_comments = all_products[all_products['similarity_with_original_meat_product'].isna()]"
   ]
  },
  {
   "cell_type": "code",
   "execution_count": 45,
   "metadata": {},
   "outputs": [
    {
     "data": {
      "text/plain": [
       "TtestResult(statistic=1.3909407907243831, pvalue=0.1664983556401905, df=137.0)"
      ]
     },
     "execution_count": 45,
     "metadata": {},
     "output_type": "execute_result"
    }
   ],
   "source": [
    "st.ttest_ind(similarity_comments['rating'], no_similarity_comments['rating'])\n",
    "\n",
    "#The p-value is higher than 0.05, so we cannot reject the null hypothesis\n"
   ]
  },
  {
   "cell_type": "markdown",
   "metadata": {},
   "source": [
    "**Null hypothesis ($H_0$):** ratings of comments discussing price = ratings of comments that doesn't discuss price\n",
    "\n",
    "**Alternative hypothesis ($H_4$):** ratings of comments discussing price != ratings of comments that doesn't discuss price"
   ]
  },
  {
   "cell_type": "code",
   "execution_count": 46,
   "metadata": {},
   "outputs": [],
   "source": [
    "price_comments = all_products[all_products['price'].notna()]\n",
    "no_price_comments = all_products[all_products['price'].isna()]"
   ]
  },
  {
   "cell_type": "code",
   "execution_count": 47,
   "metadata": {},
   "outputs": [
    {
     "data": {
      "text/plain": [
       "TtestResult(statistic=0.19001447396591886, pvalue=0.8495790431849057, df=137.0)"
      ]
     },
     "execution_count": 47,
     "metadata": {},
     "output_type": "execute_result"
    }
   ],
   "source": [
    "st.ttest_ind(price_comments['rating'], no_price_comments['rating'])\n",
    "\n",
    "#No significant difference between the ratings on comments that mention price and the comments that don't"
   ]
  },
  {
   "cell_type": "markdown",
   "metadata": {},
   "source": [
    "**Null hypothesis ($H_0$):** ratings of comments with improvements insights on taste = ratings of comments with no improvements insights on taste\n",
    "\n",
    "**Alternative hypothesis ($H_5$):** ratings of comments with improvements insights on taste != ratings of comments with no improvements insights on taste"
   ]
  },
  {
   "cell_type": "code",
   "execution_count": 49,
   "metadata": {},
   "outputs": [],
   "source": [
    "comments_taste_improvements = all_products[all_products['insights_on_improvements_on_taste'] == True]\n",
    "comments_without_taste_improvements = all_products[all_products['insights_on_improvements_on_taste'] == False]"
   ]
  },
  {
   "cell_type": "code",
   "execution_count": 50,
   "metadata": {},
   "outputs": [
    {
     "name": "stdout",
     "output_type": "stream",
     "text": [
      "3.5\n",
      "4.362903225806452\n"
     ]
    }
   ],
   "source": [
    "mean_rating_taste_improvements = all_products[all_products['insights_on_improvements_on_taste'] == True].rating.mean()\n",
    "mean_rating_without_taste_improvements = all_products[all_products['insights_on_improvements_on_taste'] == False].rating.mean()\n",
    "\n",
    "print(mean_rating_taste_improvements)\n",
    "print(mean_rating_without_taste_improvements)"
   ]
  },
  {
   "cell_type": "code",
   "execution_count": 51,
   "metadata": {},
   "outputs": [
    {
     "data": {
      "text/plain": [
       "TtestResult(statistic=-4.5592150047599835, pvalue=1.1269576061859208e-05, df=137.0)"
      ]
     },
     "execution_count": 51,
     "metadata": {},
     "output_type": "execute_result"
    }
   ],
   "source": [
    "st.ttest_ind(comments_taste_improvements['rating'], comments_without_taste_improvements['rating'])\n",
    "\n",
    "#The comments with taste improvements have significant lower rating compared to the ones that don't have taste improvements"
   ]
  },
  {
   "cell_type": "markdown",
   "metadata": {},
   "source": [
    "**Null hypothesis ($H_0$):** ratings of comments with improvements insights on texture = ratings of comments with no improvements insights on texture\n",
    "\n",
    "**Alternative hypothesis ($H_6$):** ratings of comments with improvements insights on texture != ratings of comments with no improvements insights on texture"
   ]
  },
  {
   "cell_type": "code",
   "execution_count": 52,
   "metadata": {},
   "outputs": [],
   "source": [
    "comments_texture_improvements = all_products[all_products['insights_on_improvement_on_texture'] == True]\n",
    "comments_without_texture_improvements = all_products[all_products['insights_on_improvement_on_texture'] == False]"
   ]
  },
  {
   "cell_type": "code",
   "execution_count": 53,
   "metadata": {},
   "outputs": [
    {
     "name": "stdout",
     "output_type": "stream",
     "text": [
      "3.5833333333333335\n",
      "4.371900826446281\n"
     ]
    }
   ],
   "source": [
    "mean_rating_texture_improvements = all_products[all_products['insights_on_improvement_on_texture'] == True].rating.mean()\n",
    "mean_rating_without_texture_improvements = all_products[all_products['insights_on_improvement_on_texture'] == False].rating.mean()\n",
    "\n",
    "print(mean_rating_texture_improvements)\n",
    "print(mean_rating_without_texture_improvements)"
   ]
  },
  {
   "cell_type": "code",
   "execution_count": 54,
   "metadata": {},
   "outputs": [
    {
     "data": {
      "text/plain": [
       "TtestResult(statistic=-4.501038296280433, pvalue=1.4317381840392164e-05, df=137.0)"
      ]
     },
     "execution_count": 54,
     "metadata": {},
     "output_type": "execute_result"
    }
   ],
   "source": [
    "st.ttest_ind(comments_texture_improvements['rating'], comments_without_texture_improvements['rating'])\n",
    "\n",
    "#The comments with texture improvements have significant lower rating compared to the ones that don't have taste improvements"
   ]
  },
  {
   "cell_type": "markdown",
   "metadata": {},
   "source": [
    "**Null hypothesis ($H_0$):** chance of repurchase of good comments about taste = chance of repurchase of bad comments about taste\n",
    "\n",
    "**Alternative hypothesis ($H_7$):** chance of repurchase of good comments about taste != chance of repurchase of bad comments about taste"
   ]
  },
  {
   "cell_type": "code",
   "execution_count": 78,
   "metadata": {},
   "outputs": [
    {
     "name": "stdout",
     "output_type": "stream",
     "text": [
      "a: 2\n",
      "b: 2\n",
      "c: 0\n",
      "d: 16\n"
     ]
    }
   ],
   "source": [
    "contingency_table = pd.crosstab(all_products['chance_of_repurchase'], all_products['taste'], margins=True, margins_name=\"Total\")\n",
    "\n",
    "# Extract the values from the contingency table\n",
    "a = contingency_table.loc[False, 'bad']\n",
    "b = contingency_table.loc[False, 'good']\n",
    "c = contingency_table.loc[True, 'bad']\n",
    "d = contingency_table.loc[True, 'good']\n",
    "\n",
    "# Output the values\n",
    "print(f\"a: {a}\")\n",
    "print(f\"b: {b}\")\n",
    "print(f\"c: {c}\")\n",
    "print(f\"d: {d}\")"
   ]
  },
  {
   "cell_type": "code",
   "execution_count": 79,
   "metadata": {},
   "outputs": [
    {
     "name": "stdout",
     "output_type": "stream",
     "text": [
      "Odds Ratio: inf\n",
      "P-Value: 0.031578947368421054\n"
     ]
    }
   ],
   "source": [
    "# Contigency table:\n",
    "\n",
    "#Chance of repurchase               Taste  \n",
    "#                               bad        good\n",
    "# false                         a           b\n",
    "# true                          c           d\n",
    "\n",
    "# Replace these values with your actual data\n",
    "a = 2 # Count in Category1 and Group1\n",
    "b = 2  # Count in Category1 and Group2\n",
    "c = 0  # Count in Category2 and Group1\n",
    "d = 16 # Count in Category2 and Group2\n",
    "\n",
    "# Create a 2x2 contingency table\n",
    "contingency_table = [[a, b], [c, d]]\n",
    "\n",
    "# Perform Fisher's Exact Test\n",
    "odds_ratio, p_value = fisher_exact(contingency_table)\n",
    "\n",
    "print(\"Odds Ratio:\", odds_ratio)\n",
    "print(\"P-Value:\", p_value)\n",
    "\n",
    "#The p-value is lower tan 0.05, so we can reject the null hypothesis. There is significant difference between \n",
    "# chance of repurchase of good comments about taste and bad comments about taste"
   ]
  },
  {
   "cell_type": "markdown",
   "metadata": {},
   "source": [
    "**Null hypothesis ($H_0$):** chance of repurchase of good comments about texture = chance of repurchase of bad comments about texture\n",
    "\n",
    "**Alternative hypothesis ($H8$):** chance of repurchase of good comments about texture != chance of repurchase of bad comments about texture"
   ]
  },
  {
   "cell_type": "code",
   "execution_count": 76,
   "metadata": {},
   "outputs": [
    {
     "name": "stdout",
     "output_type": "stream",
     "text": [
      "a: 4\n",
      "b: 1\n",
      "c: 2\n",
      "d: 13\n"
     ]
    }
   ],
   "source": [
    "contingency_table = pd.crosstab(all_products['chance_of_repurchase'], all_products['texture'], margins=True, margins_name=\"Total\")\n",
    "\n",
    "# Extract the values from the contingency table\n",
    "a = contingency_table.loc[False, 'bad']\n",
    "b = contingency_table.loc[False, 'good']\n",
    "c = contingency_table.loc[True, 'bad']\n",
    "d = contingency_table.loc[True, 'good']\n",
    "\n",
    "# Output the values\n",
    "print(f\"a: {a}\")\n",
    "print(f\"b: {b}\")\n",
    "print(f\"c: {c}\")\n",
    "print(f\"d: {d}\")"
   ]
  },
  {
   "cell_type": "code",
   "execution_count": 77,
   "metadata": {},
   "outputs": [
    {
     "name": "stdout",
     "output_type": "stream",
     "text": [
      "Odds Ratio: 46.0\n",
      "P-Value: 0.002568312913140499\n"
     ]
    }
   ],
   "source": [
    "# Contigency table:\n",
    "\n",
    "#Chance of repurchase               Texture  \n",
    "#                               bad        good\n",
    "# false                         a           b\n",
    "# true                          c           d\n",
    "\n",
    "# Replace these values with your actual data\n",
    "a = 4 # Count in Category1 and Group1\n",
    "b = 1  # Count in Category1 and Group2\n",
    "c = 2  # Count in Category2 and Group1\n",
    "d = 23 # Count in Category2 and Group2\n",
    "\n",
    "# Create a 2x2 contingency table\n",
    "contingency_table = [[a, b], [c, d]]\n",
    "\n",
    "# Perform Fisher's Exact Test\n",
    "odds_ratio, p_value = fisher_exact(contingency_table)\n",
    "\n",
    "print(\"Odds Ratio:\", odds_ratio)\n",
    "print(\"P-Value:\", p_value)\n",
    "\n",
    "#The p-value is lower than 0.05, so there is significant difference between chance of repurchase of good\n",
    "# and bad comments about texture. "
   ]
  },
  {
   "cell_type": "markdown",
   "metadata": {},
   "source": [
    "**Null hypothesis ($H_0$):** ratings of comments that have a good chance of repurchase = ratings of comments that have a bad chance of repurchase\n",
    "\n",
    "**Alternative hypothesis ($H9$):** ratings of comments that have a good chance of repurchase = ratings of comments that have a bad chance of repurchase"
   ]
  },
  {
   "cell_type": "code",
   "execution_count": 62,
   "metadata": {},
   "outputs": [],
   "source": [
    "comments_good_chance_repurchase = all_products[all_products['chance_of_repurchase'] == True]\n",
    "comments_bad_chance_repurchase = all_products[all_products['chance_of_repurchase'] == False]"
   ]
  },
  {
   "cell_type": "code",
   "execution_count": 63,
   "metadata": {},
   "outputs": [
    {
     "name": "stdout",
     "output_type": "stream",
     "text": [
      "4.5\n",
      "2.9\n"
     ]
    }
   ],
   "source": [
    "mean_rating_good_chance_repurchase = all_products[all_products['chance_of_repurchase'] == True].rating.mean()\n",
    "mean_rating_bad_chance_repurchase = all_products[all_products['chance_of_repurchase'] == False].rating.mean()\n",
    "\n",
    "print(mean_rating_good_chance_repurchase)\n",
    "print(mean_rating_bad_chance_repurchase)"
   ]
  },
  {
   "cell_type": "code",
   "execution_count": 64,
   "metadata": {},
   "outputs": [
    {
     "data": {
      "text/plain": [
       "TtestResult(statistic=6.227991553292183, pvalue=9.931363569046837e-07, df=28.0)"
      ]
     },
     "execution_count": 64,
     "metadata": {},
     "output_type": "execute_result"
    }
   ],
   "source": [
    "st.ttest_ind(comments_good_chance_repurchase['rating'], comments_bad_chance_repurchase['rating'])\n",
    "\n",
    "#Since the p-value is lower than 0.05, we can say that comments that mencioned a good chance \n",
    "# of repurchase have a significant higher rating that the ones that that mencioned a bad chance \n",
    "#of repurchase"
   ]
  },
  {
   "cell_type": "markdown",
   "metadata": {},
   "source": [
    "**Null hypothesis ($H_0$):** comments about similarity with the original product have no relation with the type of comment about taste\n",
    "\n",
    "**Alternative hypothesis ($H10$):** comments about similarity with the original product have association with the type of comment about taste"
   ]
  },
  {
   "cell_type": "code",
   "execution_count": 74,
   "metadata": {},
   "outputs": [
    {
     "name": "stdout",
     "output_type": "stream",
     "text": [
      "a: 1\n",
      "b: 33\n",
      "c: 2\n",
      "d: 2\n"
     ]
    }
   ],
   "source": [
    "contingency_table = pd.crosstab(all_products['similarity_with_original_meat_product'], all_products['taste'], margins=True, margins_name=\"Total\")\n",
    "\n",
    "# Extract the values from the contingency table\n",
    "a = contingency_table.loc['high', 'bad']\n",
    "b = contingency_table.loc['high', 'good']\n",
    "c = contingency_table.loc['low', 'bad']\n",
    "d = contingency_table.loc['low', 'good']\n",
    "\n",
    "# Output the values\n",
    "print(f\"a: {a}\")\n",
    "print(f\"b: {b}\")\n",
    "print(f\"c: {c}\")\n",
    "print(f\"d: {d}\")"
   ]
  },
  {
   "cell_type": "code",
   "execution_count": 71,
   "metadata": {},
   "outputs": [
    {
     "name": "stdout",
     "output_type": "stream",
     "text": [
      "Odds Ratio: 0.030303030303030304\n",
      "P-Value: 0.024656235182550973\n"
     ]
    }
   ],
   "source": [
    "# Contigency table:\n",
    "# Similarity        Taste\n",
    "#            bad           good            \n",
    "# high         a             b\n",
    "# low          c             d\n",
    "\n",
    "# Replace these values with your actual data\n",
    "a = 1 # Count in Category1 and Group1\n",
    "b = 33  # Count in Category1 and Group2\n",
    "c = 2  # Count in Category2 and Group1\n",
    "d = 2 # Count in Category2 and Group2\n",
    "\n",
    "# Create a 2x2 contingency table\n",
    "contingency_table = [[a, b], [c, d]]\n",
    "\n",
    "# Perform Fisher's Exact Test\n",
    "odds_ratio, p_value = fisher_exact(contingency_table)\n",
    "\n",
    "# Output the results\n",
    "print(\"Odds Ratio:\", odds_ratio)\n",
    "print(\"P-Value:\", p_value)\n",
    "\n",
    "#Since the p-value is lower than 0.05, we can say that comments about similarity with the original product have \n",
    "# association with the type of comment about taste. "
   ]
  },
  {
   "cell_type": "markdown",
   "metadata": {},
   "source": [
    "**Null hypothesis ($H_0$):** comments about similarity with the original product have no relation with the type of comment about texture\n",
    "\n",
    "**Alternative hypothesis ($H11$):** comments about similarity with the original product have association with the type of comment about texture"
   ]
  },
  {
   "cell_type": "code",
   "execution_count": 85,
   "metadata": {},
   "outputs": [
    {
     "name": "stdout",
     "output_type": "stream",
     "text": [
      "a: 0\n",
      "b: 24\n",
      "c: 2\n",
      "d: 1\n"
     ]
    }
   ],
   "source": [
    "contingency_table = pd.crosstab(all_products['similarity_with_original_meat_product'], all_products['texture'], margins=True, margins_name=\"Total\")\n",
    "\n",
    "# Extract the values from the contingency table\n",
    "a = contingency_table.loc['high', 'bad']\n",
    "b = contingency_table.loc['high', 'good']\n",
    "c = contingency_table.loc['low', 'bad']\n",
    "d = contingency_table.loc['low', 'good']\n",
    "\n",
    "# Output the values\n",
    "print(f\"a: {a}\")\n",
    "print(f\"b: {b}\")\n",
    "print(f\"c: {c}\")\n",
    "print(f\"d: {d}\")"
   ]
  },
  {
   "cell_type": "code",
   "execution_count": 86,
   "metadata": {},
   "outputs": [
    {
     "name": "stdout",
     "output_type": "stream",
     "text": [
      "Odds Ratio: 0.0\n",
      "P-Value: 0.008547008547008548\n"
     ]
    }
   ],
   "source": [
    "# Contigency table:\n",
    "# Similarity        Texture\n",
    "#            bad           good            \n",
    "# high         a             b\n",
    "# low          c             d\n",
    "\n",
    "# Replace these values with your actual data\n",
    "a = 0 # Count in Category1 and Group1\n",
    "b = 24  # Count in Category1 and Group2\n",
    "c = 2  # Count in Category2 and Group1\n",
    "d = 1 # Count in Category2 and Group2\n",
    "\n",
    "# Create a 2x2 contingency table\n",
    "contingency_table = [[a, b], [c, d]]\n",
    "\n",
    "# Perform Fisher's Exact Test\n",
    "odds_ratio, p_value = fisher_exact(contingency_table)\n",
    "\n",
    "# Output the results\n",
    "print(\"Odds Ratio:\", odds_ratio)\n",
    "print(\"P-Value:\", p_value)\n",
    "\n",
    "#Since the p-value is lower than 0.05, we can say that comments about similarity with the original product have \n",
    "# association with the type of comment about texture.  "
   ]
  },
  {
   "cell_type": "code",
   "execution_count": null,
   "metadata": {},
   "outputs": [],
   "source": []
  }
 ],
 "metadata": {
  "kernelspec": {
   "display_name": "Python 3.10.6 64-bit",
   "language": "python",
   "name": "python3"
  },
  "language_info": {
   "codemirror_mode": {
    "name": "ipython",
    "version": 3
   },
   "file_extension": ".py",
   "mimetype": "text/x-python",
   "name": "python",
   "nbconvert_exporter": "python",
   "pygments_lexer": "ipython3",
   "version": "3.10.6"
  },
  "orig_nbformat": 4,
  "vscode": {
   "interpreter": {
    "hash": "aee8b7b246df8f9039afb4144a1f6fd8d2ca17a180786b69acc140d282b71a49"
   }
  }
 },
 "nbformat": 4,
 "nbformat_minor": 2
}
